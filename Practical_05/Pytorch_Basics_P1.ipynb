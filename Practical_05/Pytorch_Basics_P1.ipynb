{
 "cells": [
  {
   "cell_type": "markdown",
   "id": "1effc326",
   "metadata": {},
   "source": [
    "### Deep Learning Course\n",
    "     \n",
    "2021/2022\n",
    "***\n",
    "Gonçalo Faria, Rita Ramos, Marcos Treviso\n",
    "***\n",
    "# Pytorch Basics\n",
    "\n",
    "Pytorch is a platform for deep learning in Python/C++. It provides tools for efficiently creating, training, testing and analyzing neural networks. \n",
    "\n",
    "We devided the lab in 2 parts, showing PyTorch serves two broad purposes: \n",
    "* PART I : A replacement for NumPy to use the power of GPUs. \n",
    "* PART II : An automatic differentiation library that is useful to implement neural networks. "
   ]
  },
  {
   "cell_type": "code",
   "execution_count": 2,
   "id": "38507ae6",
   "metadata": {},
   "outputs": [],
   "source": [
    "%matplotlib inline\n",
    "import torch\n",
    "import numpy as np\n",
    "import matplotlib.pyplot as plt"
   ]
  },
  {
   "cell_type": "markdown",
   "id": "39444815",
   "metadata": {},
   "source": [
    "# Tensors"
   ]
  },
  {
   "cell_type": "markdown",
   "id": "495bbd8c",
   "metadata": {},
   "source": [
    "Here we introduce the most fundamental PyTorch concept: the [Tensor](https://pytorch.org/tutorials/beginner/pytorch_with_examples.html). Tensors are identical to numpy arrays. \n",
    "\n",
    "### PyTorch Tensor vs. Numpy\n",
    "\n",
    "\n",
    "#### Numpy\n",
    "\n",
    "Numpy is a great framework, but it cannot utilize GPUs to accelerate its numerical computations. \n",
    "\n",
    "For modern deep neural networks, GPUs often provide speedups of 50x or greater, so unfortunately numpy won’t be enough for modern deep learning.\n",
    "\n",
    "#### PyTorch Tensor\n",
    "\n",
    "A PyTorch Tensor is identical to a numpy array: essencially, a Pytorch Tensor is another of saying n-dimensional array.    \n",
    "\n",
    "PyTorch can utilize GPUs (or other hardware accelerators) to perform numeric computations. And, behind the scenes, Tensors can keep track of a computational graph and gradients, and they’re also useful as a generic tool for scientific computing."
   ]
  },
  {
   "cell_type": "code",
   "execution_count": 12,
   "id": "f66ce038",
   "metadata": {},
   "outputs": [
    {
     "name": "stdout",
     "output_type": "stream",
     "text": [
      "v1: [2 4 6 8]\n",
      "v2: tensor([2, 4, 6, 8])\n",
      "\n",
      "shape v2: torch.Size([4])\n"
     ]
    }
   ],
   "source": [
    "#with numpy:\n",
    "v1 = np.array([2, 4, 6, 8])\n",
    "\n",
    "#with pytorch:\n",
    "v2 = torch.tensor([2, 4, 6, 8]) \n",
    "\n",
    "print(\"v1:\", v1)\n",
    "print(\"v2:\", v2)\n",
    "\n",
    "print(\"\\nshape v2:\", v2.shape) #one-dimensional tensor of size 4 (vector)"
   ]
  },
  {
   "cell_type": "markdown",
   "id": "96008353",
   "metadata": {},
   "source": [
    "# Tensor Initialization"
   ]
  },
  {
   "cell_type": "markdown",
   "id": "48441551",
   "metadata": {},
   "source": [
    "A tensor can be initialized directly from different ways, such as: \n",
    "   - data/manually\n",
    "   - numpy\n",
    "   - randomly\n",
    "   - constant values"
   ]
  },
  {
   "cell_type": "code",
   "execution_count": 13,
   "id": "e772ed83",
   "metadata": {},
   "outputs": [
    {
     "name": "stdout",
     "output_type": "stream",
     "text": [
      "x_data tensor([1, 2, 3])\n",
      "\n",
      "np_array [1 2 3]\n",
      "x_np_ex1 tensor([1, 2, 3])\n",
      "x_np_ex2 tensor([1, 2, 3])\n",
      "\n",
      "modified np_array [10  2  3]\n",
      "x_np_ex1 tensor([10,  2,  3])\n",
      "x_np_ex2 tensor([1, 2, 3])\n",
      "\n",
      "x_rand tensor([0.9772, 0.1209, 0.2445])\n",
      "x_ones_ex1 tensor([[1., 1., 1.]])\n",
      "x_ones_ex2 tensor([[1.],\n",
      "        [1.],\n",
      "        [1.]])\n",
      "x_zeros tensor([0., 0., 0.])\n",
      "x_ordered tensor([3, 4, 5])\n"
     ]
    }
   ],
   "source": [
    "#from data/manually\n",
    "data = [1, 2, 3]\n",
    "x_data = torch.tensor(data)\n",
    "print(\"x_data\", x_data)\n",
    "\n",
    "\n",
    "#from numpy\n",
    "np_array = np.array(data)\n",
    "x_np_ex1 = torch.from_numpy(np_array) #same memory (the tensor shares the same data) -> changes to np_array impact the tensor\n",
    "x_np_ex2 = torch.tensor(np_array) # a new tensor is created (\"clone\") -> changes to np_array have NO impact on the tensor\n",
    "\n",
    "print(\"\\nnp_array\", np_array)\n",
    "print(\"x_np_ex1\", x_np_ex1)\n",
    "print(\"x_np_ex2\", x_np_ex2)\n",
    "\n",
    "np_array[0]=10 #Changes to np_array impact the tensor initialized \"from_numpy\"\n",
    "print(\"\\nmodified np_array\", np_array)\n",
    "print(\"x_np_ex1\", x_np_ex1) #affected\n",
    "print(\"x_np_ex2\", x_np_ex2) \n",
    " \n",
    "\n",
    "# randomly, constant, etc.\n",
    "x_rand = torch.rand((3)) \n",
    "x_ones_ex1 = torch.ones((1,3)) # one row with 3 collumns (like numpy)\n",
    "x_ones_ex2 = torch.ones((3,1)) # 3 rows with 1 collumns (like numpy)\n",
    "x_zeros = torch.zeros(3)\n",
    "x_ordered = torch.arange(3,6)\n",
    "\n",
    "print(\"\\nx_rand\", x_rand)\n",
    "print(\"x_ones_ex1\", x_ones_ex1)\n",
    "print(\"x_ones_ex2\", x_ones_ex2)\n",
    "print(\"x_zeros\", x_zeros)\n",
    "print(\"x_ordered\", x_ordered)"
   ]
  },
  {
   "cell_type": "markdown",
   "id": "64f9dec2",
   "metadata": {},
   "source": [
    "# Tensor attributes:"
   ]
  },
  {
   "cell_type": "markdown",
   "id": "ff50bdf7",
   "metadata": {},
   "source": [
    "Tensor attributes describe their <b> shape</b>, <b>datatype</b>, and the <b>device</b> on which they are stored."
   ]
  },
  {
   "cell_type": "code",
   "execution_count": 14,
   "id": "b2ca5fdb",
   "metadata": {},
   "outputs": [
    {
     "name": "stdout",
     "output_type": "stream",
     "text": [
      "tensor([[0.4158, 0.2939, 0.9538]])\n",
      "\n",
      "Shape of tensor: torch.Size([1, 3])\n",
      "Datatype of tensor: torch.float32\n",
      "Device tensor is stored on: cpu\n"
     ]
    }
   ],
   "source": [
    "x = torch.rand((1,3))\n",
    "print(x)\n",
    "print(\"\\nShape of tensor:\", x.shape) # you can also use tensor.size()\n",
    "print(\"Datatype of tensor:\", x.dtype)\n",
    "print(\"Device tensor is stored on:\", x.device) #we will see later on how to move to GPU, if available. "
   ]
  },
  {
   "cell_type": "markdown",
   "id": "64b39ca2",
   "metadata": {},
   "source": [
    "# Examples of tensors with different shapes"
   ]
  },
  {
   "cell_type": "markdown",
   "id": "db1e5aa0",
   "metadata": {},
   "source": [
    "### Scalar"
   ]
  },
  {
   "cell_type": "code",
   "execution_count": 15,
   "id": "bc05b31b",
   "metadata": {},
   "outputs": [
    {
     "name": "stdout",
     "output_type": "stream",
     "text": [
      "x: tensor(7)\n",
      "x value: 7\n",
      "shape: torch.Size([])\n"
     ]
    }
   ],
   "source": [
    "x = torch.tensor(7)\n",
    "\n",
    "print(\"x:\", x)\n",
    "print(\"x value:\", x.item())\n",
    "print(\"shape:\", x.size())"
   ]
  },
  {
   "cell_type": "markdown",
   "id": "2fe2b0ae",
   "metadata": {},
   "source": [
    "### Vector"
   ]
  },
  {
   "cell_type": "code",
   "execution_count": 16,
   "id": "63562065",
   "metadata": {},
   "outputs": [
    {
     "name": "stdout",
     "output_type": "stream",
     "text": [
      "x: tensor([7])\n",
      "shape: torch.Size([1])\n",
      "\n",
      "x: tensor([0.2520])\n",
      "shape: torch.Size([1])\n",
      "\n",
      "x: tensor([0., 0., 0.])\n",
      "shape: torch.Size([3])\n",
      "\n",
      "x: tensor([10, 11, 12, 13, 14, 15, 16])\n",
      "shape: torch.Size([7])\n"
     ]
    }
   ],
   "source": [
    "x = torch.tensor([7])\n",
    "print(\"x:\", x)\n",
    "print(\"shape:\", x.size())\n",
    "\n",
    "x = torch.rand(1)\n",
    "print(\"\\nx:\", x)\n",
    "print(\"shape:\", x.size())\n",
    "\n",
    "x = torch.zeros((3))\n",
    "print(\"\\nx:\", x)\n",
    "print(\"shape:\", x.size())\n",
    "\n",
    "x = torch.arange(10,17)\n",
    "print(\"\\nx:\", x)\n",
    "print(\"shape:\", x.size())"
   ]
  },
  {
   "cell_type": "markdown",
   "id": "8e2df825",
   "metadata": {},
   "source": [
    "### Matrix"
   ]
  },
  {
   "cell_type": "code",
   "execution_count": 17,
   "id": "3274e120",
   "metadata": {},
   "outputs": [
    {
     "name": "stdout",
     "output_type": "stream",
     "text": [
      "x:\n",
      " tensor([[ 2,  4,  6,  8],\n",
      "        [ 1,  2,  3,  4],\n",
      "        [ 7,  8,  9, 10]])\n",
      "shape: torch.Size([3, 4])\n",
      "\n",
      "\n",
      "x: tensor([[1., 1.],\n",
      "        [1., 1.]])\n",
      "shape: torch.Size([2, 2])\n",
      "\n",
      "\n",
      "x: tensor([[0.],\n",
      "        [0.],\n",
      "        [0.]])\n",
      "shape: torch.Size([3, 1])\n",
      "\n",
      "\n",
      "nx: tensor([[0., 0., 0.]])\n",
      "shape: torch.Size([1, 3])\n",
      "\n",
      "\n",
      "x:\n",
      " tensor([[1, 2, 3],\n",
      "        [4, 5, 6],\n",
      "        [7, 8, 9]])\n",
      "shape: torch.Size([3, 3])\n"
     ]
    }
   ],
   "source": [
    "x = torch.tensor([[2, 4, 6,8], [1, 2, 3,4], [7, 8, 9,10]])\n",
    "\n",
    "print(\"x:\\n\", x)\n",
    "print(\"shape:\", x.size())\n",
    "\n",
    "x = torch.ones(2,2)\n",
    "print(\"\\n\\nx:\", x)\n",
    "print(\"shape:\", x.size())\n",
    "\n",
    "x = torch.zeros(3,1)\n",
    "print(\"\\n\\nx:\", x)\n",
    "print(\"shape:\", x.size())\n",
    "\n",
    "\n",
    "x = torch.zeros(1,3)\n",
    "print(\"\\n\\nnx:\", x)\n",
    "print(\"shape:\", x.size())\n",
    "\n",
    "\n",
    "x= torch.arange(1,10).view(3,3) #view reshapes the tensor into a 3 by 3 matrix\n",
    "print(\"\\n\\nx:\\n\", x)\n",
    "print(\"shape:\", x.size())"
   ]
  },
  {
   "cell_type": "markdown",
   "id": "dd986996",
   "metadata": {},
   "source": [
    "### N-dimensional array\n",
    "\n",
    "Imagine you have an image with (256 w,  256 h,  3 channels).  "
   ]
  },
  {
   "cell_type": "code",
   "execution_count": 18,
   "id": "10d9bfb0",
   "metadata": {},
   "outputs": [
    {
     "name": "stdout",
     "output_type": "stream",
     "text": [
      "\n",
      "x: tensor([[[2.7547e-02, 6.4726e-02, 2.9013e-01],\n",
      "         [5.6791e-01, 6.0790e-01, 5.4215e-01],\n",
      "         [3.6920e-01, 4.6484e-01, 5.6864e-01],\n",
      "         [6.2335e-01, 7.0076e-02, 5.3817e-04],\n",
      "         [5.2045e-01, 2.1630e-01, 6.7589e-01]],\n",
      "\n",
      "        [[6.0691e-01, 7.0508e-01, 9.8696e-01],\n",
      "         [2.4445e-01, 3.0725e-01, 6.2452e-01],\n",
      "         [5.5594e-02, 6.7637e-01, 5.2107e-01],\n",
      "         [2.7114e-01, 4.1074e-01, 4.1017e-01],\n",
      "         [1.0007e-01, 4.6935e-02, 4.5747e-01]],\n",
      "\n",
      "        [[5.2342e-01, 5.3630e-01, 5.0829e-01],\n",
      "         [7.6594e-01, 2.6613e-01, 4.5242e-01],\n",
      "         [8.8180e-01, 5.4876e-02, 7.7306e-01],\n",
      "         [4.1347e-01, 7.9534e-01, 4.3317e-01],\n",
      "         [1.3849e-01, 6.9982e-01, 1.6714e-01]],\n",
      "\n",
      "        [[1.8933e-01, 9.7084e-01, 3.5585e-02],\n",
      "         [4.0057e-02, 1.2034e-01, 3.2184e-01],\n",
      "         [4.1115e-01, 2.0690e-02, 1.7752e-02],\n",
      "         [2.1451e-01, 4.2323e-01, 8.4731e-01],\n",
      "         [2.9668e-01, 2.6188e-01, 7.1611e-01]],\n",
      "\n",
      "        [[3.4657e-01, 8.6109e-01, 8.5586e-01],\n",
      "         [7.5305e-01, 6.1779e-02, 9.5298e-01],\n",
      "         [1.7946e-01, 7.4621e-01, 8.5224e-02],\n",
      "         [2.5814e-02, 2.7524e-01, 9.3016e-01],\n",
      "         [7.8861e-01, 7.4038e-01, 5.8019e-01]]])\n",
      "shape: torch.Size([5, 5, 3])\n"
     ]
    }
   ],
   "source": [
    "x=torch.rand((5,5,3))\n",
    "print(\"\\nx:\", x)\n",
    "print(\"shape:\", x.size())"
   ]
  },
  {
   "cell_type": "markdown",
   "id": "7211a4ff",
   "metadata": {},
   "source": [
    "Example of an actual image and having it stored in a tensor"
   ]
  },
  {
   "cell_type": "code",
   "execution_count": 3,
   "id": "842af3de",
   "metadata": {},
   "outputs": [
    {
     "name": "stdout",
     "output_type": "stream",
     "text": [
      "shape torch.Size([480, 640, 3])\n"
     ]
    },
    {
     "data": {
      "image/png": "[encoded data removed]",
      "text/plain": [
       "<Figure size 432x288 with 1 Axes>"
      ]
     },
     "metadata": {
      "needs_background": "light"
     },
     "output_type": "display_data"
    }
   ],
   "source": [
    "from PIL import Image\n",
    "import torchvision.transforms.functional as TF\n",
    "import requests\n",
    "url = \"http://images.cocodataset.org/val2017/000000039769.jpg\"\n",
    "image = Image.open(requests.get(url, stream=True).raw)\n",
    "image_tensor = TF.to_tensor(image)\n",
    "image_tensor = image_tensor.permute(\n",
    "    [1,2,0]) # make the color dimention the last one.\n",
    "print(\"shape\", image_tensor.shape)\n",
    "plt.imshow(image_tensor)\n",
    "plt.show()"
   ]
  },
  {
   "cell_type": "markdown",
   "id": "9f476c20",
   "metadata": {},
   "source": [
    "Image now you want to represent a batch of images. Ex: for each iteration, 10 training examples of images."
   ]
  },
  {
   "cell_type": "code",
   "execution_count": 28,
   "id": "c2c4e702",
   "metadata": {},
   "outputs": [
    {
     "name": "stdout",
     "output_type": "stream",
     "text": [
      "shape torch.Size([2, 480, 640, 3])\n"
     ]
    }
   ],
   "source": [
    "urls = [\"http://images.cocodataset.org/val2017/000000039769.jpg\", \n",
    "        \"http://images.cocodataset.org/val2017/000000039769.jpg\"]\n",
    "#all_images=torch.tensor([])\n",
    "batched_images = [] \n",
    "for url in urls:\n",
    "    image = Image.open(requests.get(url, stream=True).raw)\n",
    "    image_tensor = torch.permute(\n",
    "        TF.to_tensor(image),\n",
    "        [1,2,0]) # make dimention the last one. \n",
    "    batched_images.append( image_tensor )\n",
    "\n",
    "all_images = torch.stack(batched_images,axis=0) #concatenate in the first dim\n",
    "\n",
    "print(\"shape\", all_images.shape)\n"
   ]
  },
  {
   "cell_type": "markdown",
   "id": "26bc7dbb",
   "metadata": {},
   "source": [
    "# Indexing\n",
    "\n",
    "Indexing is similar to numpy, you can access values of specific row(s) and collumn(s). "
   ]
  },
  {
   "cell_type": "code",
   "execution_count": 4,
   "id": "125669ae",
   "metadata": {},
   "outputs": [
    {
     "name": "stdout",
     "output_type": "stream",
     "text": [
      "A tensor([[1, 2, 3],\n",
      "        [4, 5, 6],\n",
      "        [7, 8, 9]])\n",
      "\n",
      "A[0]: tensor([1, 2, 3])\n",
      "A[1]: tensor([4, 5, 6])\n",
      "A[1, 2]: tensor(6)\n",
      "A[0][2]: tensor(3)\n",
      "A[1:2,0:1]: tensor([[4]])\n",
      "A[:-2,::2]: tensor([[1, 3]])\n",
      "\n",
      "\n",
      "indexes tensor([[0, 2, 2],\n",
      "        [0, 1, 1],\n",
      "        [2, 0, 1]])\n",
      "\n",
      "indexed_dim1 tensor([[1, 3, 3],\n",
      "        [4, 5, 5],\n",
      "        [9, 7, 8]])\n",
      "indexed_dim1 tensor([[1, 8, 9],\n",
      "        [1, 5, 6],\n",
      "        [7, 2, 6]])\n"
     ]
    }
   ],
   "source": [
    "# = Matrix indexing = #\n",
    "A= torch.arange(1,10).view(3,3)\n",
    "print(\"A\",A)\n",
    "\n",
    "# Simple indexing\n",
    "print(\"\\nA[0]:\", A[0]) #indexing by row 0\n",
    "print(\"A[1]:\", A[1]) #indexing by row 1\n",
    "print(\"A[1, 2]:\", A[1, 2])  # indexing row 1 with collumn 2 (More efficient)\n",
    "print(\"A[0][2]:\", A[0][2])  # indexing row 0 with collumn 2 (Less efficient)\n",
    "\n",
    "# -- Slicing\n",
    "\n",
    "# Rows between 1 and 2 (excluding the latter), \n",
    "# columns between 0 and 1 (excluding the latter)\n",
    "print(\"A[1:2,0:1]:\", A[1:2,0:1])\n",
    "\n",
    "# All rows except the last two,\n",
    "# every other column\n",
    "print(\"A[:-2,::2]:\", A[:-2,::2]) \n",
    "\n",
    "# -- Tensors as indices\n",
    "#You can also do multi-index selection with gather\n",
    "indexes = torch.tensor([[0, 2, 2], \n",
    "                         [0, 1, 1], \n",
    "                         [2, 0, 1]])\n",
    "\n",
    "print(\"\\n\\nindexes\",indexes)\n",
    "\n",
    "indexed_dim1 = torch.gather(A, 1, indexes) # dim is 1\n",
    "print(\"\\nindexed_dim1\", indexed_dim1)\n",
    "\n",
    "indexed_dim0 = torch.gather(A, 0, indexes) # dim is 0\n",
    "print(\"indexed_dim1\", indexed_dim0)"
   ]
  },
  {
   "cell_type": "markdown",
   "id": "2825c5a5",
   "metadata": {},
   "source": [
    "# Operations"
   ]
  },
  {
   "cell_type": "markdown",
   "id": "3a2f12fc",
   "metadata": {},
   "source": [
    "### Elementwise operations"
   ]
  },
  {
   "cell_type": "code",
   "execution_count": 25,
   "id": "88a3312d",
   "metadata": {},
   "outputs": [
    {
     "name": "stdout",
     "output_type": "stream",
     "text": [
      "v1 tensor([0, 1, 2, 3, 4, 5, 6, 7, 8, 9])\n",
      "v2 tensor([10, 11, 12, 13, 14, 15, 16, 17, 18, 19])\n"
     ]
    }
   ],
   "source": [
    "v1 = torch.arange(10)\n",
    "v2 = torch.arange(10, 20)\n",
    "print(\"v1\", v1)\n",
    "print(\"v2\",v2)"
   ]
  },
  {
   "cell_type": "code",
   "execution_count": 26,
   "id": "d47f6b6c",
   "metadata": {},
   "outputs": [
    {
     "data": {
      "text/plain": [
       "tensor([10, 12, 14, 16, 18, 20, 22, 24, 26, 28])"
      ]
     },
     "execution_count": 26,
     "metadata": {},
     "output_type": "execute_result"
    }
   ],
   "source": [
    "v1 + v2"
   ]
  },
  {
   "cell_type": "code",
   "execution_count": 27,
   "id": "372a63ba",
   "metadata": {},
   "outputs": [
    {
     "data": {
      "text/plain": [
       "tensor([  0,  11,  24,  39,  56,  75,  96, 119, 144, 171])"
      ]
     },
     "execution_count": 27,
     "metadata": {},
     "output_type": "execute_result"
    }
   ],
   "source": [
    "v1 * v2"
   ]
  },
  {
   "cell_type": "markdown",
   "id": "e1844550",
   "metadata": {},
   "source": [
    "Some caveats when working with integer values!"
   ]
  },
  {
   "cell_type": "code",
   "execution_count": 28,
   "id": "f733cf85",
   "metadata": {},
   "outputs": [
    {
     "data": {
      "text/plain": [
       "tensor([0.0000, 0.0909, 0.1667, 0.2308, 0.2857, 0.3333, 0.3750, 0.4118, 0.4444,\n",
       "        0.4737])"
      ]
     },
     "execution_count": 28,
     "metadata": {},
     "output_type": "execute_result"
    }
   ],
   "source": [
    "v1 / v2 "
   ]
  },
  {
   "cell_type": "code",
   "execution_count": 29,
   "id": "7ed88784",
   "metadata": {},
   "outputs": [
    {
     "data": {
      "text/plain": [
       "tensor([0.0000, 0.0909, 0.1667, 0.2308, 0.2857, 0.3333, 0.3750, 0.4118, 0.4444,\n",
       "        0.4737])"
      ]
     },
     "execution_count": 29,
     "metadata": {},
     "output_type": "execute_result"
    }
   ],
   "source": [
    "x = v1.float()\n",
    "y = v2.float()\n",
    "x / y"
   ]
  },
  {
   "cell_type": "markdown",
   "id": "b5a135fa",
   "metadata": {},
   "source": [
    "#### Operations with constants"
   ]
  },
  {
   "cell_type": "code",
   "execution_count": 30,
   "id": "6d26630b",
   "metadata": {},
   "outputs": [
    {
     "data": {
      "text/plain": [
       "tensor([0., 1., 2., 3., 4., 5., 6., 7., 8., 9.])"
      ]
     },
     "execution_count": 30,
     "metadata": {},
     "output_type": "execute_result"
    }
   ],
   "source": [
    "x"
   ]
  },
  {
   "cell_type": "code",
   "execution_count": 31,
   "id": "8494011c",
   "metadata": {},
   "outputs": [
    {
     "data": {
      "text/plain": [
       "tensor([ 1.,  2.,  3.,  4.,  5.,  6.,  7.,  8.,  9., 10.])"
      ]
     },
     "execution_count": 31,
     "metadata": {},
     "output_type": "execute_result"
    }
   ],
   "source": [
    "x + 1"
   ]
  },
  {
   "cell_type": "code",
   "execution_count": 32,
   "id": "8d9cd409",
   "metadata": {},
   "outputs": [
    {
     "data": {
      "text/plain": [
       "tensor([ 0.,  1.,  4.,  9., 16., 25., 36., 49., 64., 81.])"
      ]
     },
     "execution_count": 32,
     "metadata": {},
     "output_type": "execute_result"
    }
   ],
   "source": [
    "x ** 2"
   ]
  },
  {
   "cell_type": "markdown",
   "id": "642069e0",
   "metadata": {},
   "source": [
    "#### Multiplication of matrices"
   ]
  },
  {
   "cell_type": "code",
   "execution_count": 35,
   "id": "f02996ca",
   "metadata": {},
   "outputs": [
    {
     "name": "stdout",
     "output_type": "stream",
     "text": [
      "m1: tensor([[0.5520, 0.0072, 0.3438, 0.9107],\n",
      "        [0.8767, 0.9323, 0.8986, 0.4148],\n",
      "        [0.5263, 0.1835, 0.4938, 0.2878],\n",
      "        [0.6080, 0.9610, 0.9012, 0.3797],\n",
      "        [0.5580, 0.4120, 0.7629, 0.5696]])\n",
      "\n",
      "m2: tensor([[0.6661, 0.7313, 0.5705, 0.3459, 0.6019],\n",
      "        [0.8347, 0.0842, 0.0374, 0.0470, 0.7963],\n",
      "        [0.8934, 0.0616, 0.2276, 0.0374, 0.8150],\n",
      "        [0.6744, 0.2414, 0.9367, 0.4769, 0.2207]])\n",
      "\n",
      "tensor([[1.2949, 0.6453, 1.2465, 0.6385, 0.8192],\n",
      "        [2.4447, 0.8752, 1.1282, 0.5785, 2.0940],\n",
      "        [1.1389, 0.5002, 0.6891, 0.3464, 0.9288],\n",
      "        [2.2683, 0.6727, 0.9437, 0.4703, 1.9495],\n",
      "        [1.7813, 0.6273, 1.0410, 0.5126, 1.4115]])\n"
     ]
    }
   ],
   "source": [
    "m1 = torch.rand(5, 4)\n",
    "m2 = torch.rand(4, 5)\n",
    "\n",
    "print(\"m1: %s\\n\" % m1)\n",
    "print(\"m2: %s\\n\" % m2)\n",
    "print(m1@(m2)) #dot is for numpy -> use matmul instead"
   ]
  },
  {
   "cell_type": "markdown",
   "id": "33ae0478",
   "metadata": {},
   "source": [
    "Oops... that can be misleading if you are used to numpy. Instead, call `matmul` (or `@`)"
   ]
  },
  {
   "cell_type": "code",
   "execution_count": 36,
   "id": "88f6676b",
   "metadata": {
    "scrolled": true
   },
   "outputs": [
    {
     "name": "stdout",
     "output_type": "stream",
     "text": [
      "tensor([[1.2949, 0.6453, 1.2465, 0.6385, 0.8192],\n",
      "        [2.4447, 0.8752, 1.1282, 0.5785, 2.0940],\n",
      "        [1.1389, 0.5002, 0.6891, 0.3464, 0.9288],\n",
      "        [2.2683, 0.6727, 0.9437, 0.4703, 1.9495],\n",
      "        [1.7813, 0.6273, 1.0410, 0.5126, 1.4115]])\n"
     ]
    }
   ],
   "source": [
    "print(m1.matmul(m2))"
   ]
  },
  {
   "cell_type": "code",
   "execution_count": 37,
   "id": "14ea3e63",
   "metadata": {},
   "outputs": [
    {
     "name": "stdout",
     "output_type": "stream",
     "text": [
      "tensor([[1.2949, 0.6453, 1.2465, 0.6385, 0.8192],\n",
      "        [2.4447, 0.8752, 1.1282, 0.5785, 2.0940],\n",
      "        [1.1389, 0.5002, 0.6891, 0.3464, 0.9288],\n",
      "        [2.2683, 0.6727, 0.9437, 0.4703, 1.9495],\n",
      "        [1.7813, 0.6273, 1.0410, 0.5126, 1.4115]])\n"
     ]
    }
   ],
   "source": [
    "print(m1 @ m2)"
   ]
  },
  {
   "cell_type": "markdown",
   "id": "7676ed34",
   "metadata": {},
   "source": [
    "You can also use `mm`, but for batched data it's better to use `matmul`, `@`. Carreful, this is a common source of errors. \n",
    "\n",
    "There's also `bmm` that works for 3d tensors."
   ]
  },
  {
   "cell_type": "code",
   "execution_count": 45,
   "id": "b5681825",
   "metadata": {},
   "outputs": [
    {
     "name": "stdout",
     "output_type": "stream",
     "text": [
      "tensor([[[0.9791, 0.7057, 0.0438, 0.8165],\n",
      "         [0.1300, 0.5553, 0.5440, 0.2999],\n",
      "         [0.8624, 0.2577, 0.4573, 0.6646],\n",
      "         [0.5774, 0.2803, 0.3752, 0.0687],\n",
      "         [0.1788, 0.1183, 0.0392, 0.1805]],\n",
      "\n",
      "        [[0.8773, 0.3870, 0.1262, 0.3538],\n",
      "         [0.2937, 0.9620, 0.4946, 0.8396],\n",
      "         [0.6393, 0.5281, 0.1753, 0.6291],\n",
      "         [0.6890, 0.9428, 0.3631, 0.6694],\n",
      "         [0.2494, 0.3032, 0.5068, 0.7653]]])\n"
     ]
    },
    {
     "ename": "RuntimeError",
     "evalue": "self must be a matrix",
     "output_type": "error",
     "traceback": [
      "\u001b[0;31m---------------------------------------------------------------------------\u001b[0m",
      "\u001b[0;31mRuntimeError\u001b[0m                              Traceback (most recent call last)",
      "\u001b[0;32m/var/folders/8b/9lvvppx52qsb_6t495m00vfm0000gn/T/ipykernel_19068/313451005.py\u001b[0m in \u001b[0;36m<module>\u001b[0;34m\u001b[0m\n\u001b[1;32m      4\u001b[0m \u001b[0mprint\u001b[0m\u001b[0;34m(\u001b[0m\u001b[0mm1\u001b[0m\u001b[0;34m)\u001b[0m\u001b[0;34m\u001b[0m\u001b[0;34m\u001b[0m\u001b[0m\n\u001b[1;32m      5\u001b[0m \u001b[0;34m\u001b[0m\u001b[0m\n\u001b[0;32m----> 6\u001b[0;31m \u001b[0mprint\u001b[0m\u001b[0;34m(\u001b[0m\u001b[0mm1\u001b[0m\u001b[0;34m.\u001b[0m\u001b[0mmm\u001b[0m\u001b[0;34m(\u001b[0m\u001b[0mm2\u001b[0m\u001b[0;34m)\u001b[0m\u001b[0;34m)\u001b[0m\u001b[0;34m\u001b[0m\u001b[0;34m\u001b[0m\u001b[0m\n\u001b[0m",
      "\u001b[0;31mRuntimeError\u001b[0m: self must be a matrix"
     ]
    }
   ],
   "source": [
    "#for batch data don't use mm\n",
    "m1 = torch.rand(2, 5, 4)\n",
    "m2 = torch.rand(2, 4, 5)\n",
    "print(m1)\n",
    "\n",
    "print(m1.mm(m2))"
   ]
  },
  {
   "cell_type": "code",
   "execution_count": 46,
   "id": "d2276814",
   "metadata": {},
   "outputs": [
    {
     "name": "stdout",
     "output_type": "stream",
     "text": [
      "tensor([[[0.9925, 2.0326, 2.0474, 1.7655, 1.0679],\n",
      "         [0.7369, 1.3172, 0.7010, 0.7077, 0.8392],\n",
      "         [0.8430, 1.8395, 1.5467, 1.2585, 1.1895],\n",
      "         [0.6003, 1.2233, 0.7992, 0.6352, 0.6781],\n",
      "         [0.1960, 0.4068, 0.3929, 0.3388, 0.2372]],\n",
      "\n",
      "        [[1.0490, 0.7891, 0.6242, 0.6261, 1.2069],\n",
      "         [2.1372, 0.8760, 0.7337, 1.5112, 1.7805],\n",
      "         [1.3829, 0.7724, 0.6774, 0.9733, 1.2654],\n",
      "         [1.9874, 0.9897, 0.8203, 1.3030, 1.8975],\n",
      "         [1.4428, 0.7398, 0.5250, 1.0989, 1.0955]]])\n",
      "tensor([[[0.9925, 2.0326, 2.0474, 1.7655, 1.0679],\n",
      "         [0.7369, 1.3172, 0.7010, 0.7077, 0.8392],\n",
      "         [0.8430, 1.8395, 1.5467, 1.2585, 1.1895],\n",
      "         [0.6003, 1.2233, 0.7992, 0.6352, 0.6781],\n",
      "         [0.1960, 0.4068, 0.3929, 0.3388, 0.2372]],\n",
      "\n",
      "        [[1.0490, 0.7891, 0.6242, 0.6261, 1.2069],\n",
      "         [2.1372, 0.8760, 0.7337, 1.5112, 1.7805],\n",
      "         [1.3829, 0.7724, 0.6774, 0.9733, 1.2654],\n",
      "         [1.9874, 0.9897, 0.8203, 1.3030, 1.8975],\n",
      "         [1.4428, 0.7398, 0.5250, 1.0989, 1.0955]]])\n",
      "tensor([[[0.9925, 2.0326, 2.0474, 1.7655, 1.0679],\n",
      "         [0.7369, 1.3172, 0.7010, 0.7077, 0.8392],\n",
      "         [0.8430, 1.8395, 1.5467, 1.2585, 1.1895],\n",
      "         [0.6003, 1.2233, 0.7992, 0.6352, 0.6781],\n",
      "         [0.1960, 0.4068, 0.3929, 0.3388, 0.2372]],\n",
      "\n",
      "        [[1.0490, 0.7891, 0.6242, 0.6261, 1.2069],\n",
      "         [2.1372, 0.8760, 0.7337, 1.5112, 1.7805],\n",
      "         [1.3829, 0.7724, 0.6774, 0.9733, 1.2654],\n",
      "         [1.9874, 0.9897, 0.8203, 1.3030, 1.8975],\n",
      "         [1.4428, 0.7398, 0.5250, 1.0989, 1.0955]]])\n"
     ]
    }
   ],
   "source": [
    "#for batch data use instead matmul, @ or bmm()\n",
    "print(m1.matmul(m2))\n",
    "print(m1@(m2))\n",
    "print(m1.bmm(m2)) #For 3d tensors you can also use .bmm"
   ]
  },
  {
   "cell_type": "markdown",
   "id": "954582ff",
   "metadata": {},
   "source": [
    "What if I have even more dimensions?"
   ]
  },
  {
   "cell_type": "code",
   "execution_count": 47,
   "id": "d4272647",
   "metadata": {},
   "outputs": [
    {
     "ename": "RuntimeError",
     "evalue": "Expected 3-dimensional tensor, but got 4-dimensional tensor for argument #1 'batch1' (while checking arguments for bmm)",
     "output_type": "error",
     "traceback": [
      "\u001b[0;31m---------------------------------------------------------------------------\u001b[0m",
      "\u001b[0;31mRuntimeError\u001b[0m                              Traceback (most recent call last)",
      "\u001b[0;32m/var/folders/8b/9lvvppx52qsb_6t495m00vfm0000gn/T/ipykernel_19068/759863126.py\u001b[0m in \u001b[0;36m<module>\u001b[0;34m\u001b[0m\n\u001b[1;32m      2\u001b[0m \u001b[0mm2\u001b[0m \u001b[0;34m=\u001b[0m \u001b[0mtorch\u001b[0m\u001b[0;34m.\u001b[0m\u001b[0mrand\u001b[0m\u001b[0;34m(\u001b[0m\u001b[0;36m2\u001b[0m\u001b[0;34m,\u001b[0m \u001b[0;36m3\u001b[0m\u001b[0;34m,\u001b[0m \u001b[0;36m4\u001b[0m\u001b[0;34m,\u001b[0m \u001b[0;36m5\u001b[0m\u001b[0;34m)\u001b[0m\u001b[0;34m\u001b[0m\u001b[0;34m\u001b[0m\u001b[0m\n\u001b[1;32m      3\u001b[0m \u001b[0;34m\u001b[0m\u001b[0m\n\u001b[0;32m----> 4\u001b[0;31m \u001b[0mprint\u001b[0m\u001b[0;34m(\u001b[0m\u001b[0mm1\u001b[0m\u001b[0;34m.\u001b[0m\u001b[0mbmm\u001b[0m\u001b[0;34m(\u001b[0m\u001b[0mm2\u001b[0m\u001b[0;34m)\u001b[0m\u001b[0;34m)\u001b[0m\u001b[0;34m\u001b[0m\u001b[0;34m\u001b[0m\u001b[0m\n\u001b[0m",
      "\u001b[0;31mRuntimeError\u001b[0m: Expected 3-dimensional tensor, but got 4-dimensional tensor for argument #1 'batch1' (while checking arguments for bmm)"
     ]
    }
   ],
   "source": [
    "m1 = torch.rand(2, 3, 5, 4)\n",
    "m2 = torch.rand(2, 3, 4, 5)\n",
    "\n",
    "print(m1.bmm(m2)) "
   ]
  },
  {
   "cell_type": "markdown",
   "id": "d5a58dd0",
   "metadata": {},
   "source": [
    "`.bmm` works with 3d tensors. We can use the more general `matmul` or `@` instead."
   ]
  },
  {
   "cell_type": "code",
   "execution_count": 40,
   "id": "86e808f9",
   "metadata": {},
   "outputs": [
    {
     "name": "stdout",
     "output_type": "stream",
     "text": [
      "tensor([[[[0.8657, 0.9738, 0.3437, 0.3736, 1.0965],\n",
      "          [0.5436, 0.9778, 0.1639, 0.1501, 0.6547],\n",
      "          [1.2755, 1.6704, 0.4559, 0.4037, 1.5694],\n",
      "          [0.9914, 0.8402, 0.3646, 0.3154, 0.6528],\n",
      "          [1.4698, 1.7488, 0.5212, 0.4465, 1.5116]],\n",
      "\n",
      "         [[1.4767, 1.4919, 1.8555, 1.1906, 2.1602],\n",
      "          [0.5548, 0.5101, 0.6609, 0.4485, 0.7687],\n",
      "          [1.1261, 1.2733, 1.1512, 0.6770, 1.5569],\n",
      "          [0.9616, 0.8399, 0.9907, 0.4858, 1.2351],\n",
      "          [1.7914, 1.2182, 1.6769, 1.2455, 2.0383]],\n",
      "\n",
      "         [[0.5411, 0.5808, 0.6317, 1.1238, 1.2219],\n",
      "          [0.5769, 0.8286, 0.8423, 1.3140, 1.5758],\n",
      "          [1.0017, 0.9447, 1.0018, 1.7097, 1.8854],\n",
      "          [0.7744, 0.4870, 0.5860, 1.2605, 1.2618],\n",
      "          [0.5380, 0.3682, 0.4476, 0.9406, 0.8900]]],\n",
      "\n",
      "\n",
      "        [[[0.2859, 0.5871, 0.5725, 0.4685, 0.6062],\n",
      "          [1.3424, 1.2191, 0.9486, 1.3449, 0.6944],\n",
      "          [0.7727, 0.7698, 0.6903, 0.8279, 0.6447],\n",
      "          [0.8547, 0.6118, 0.6877, 0.7280, 0.7612],\n",
      "          [0.4833, 0.7028, 0.5777, 0.6093, 0.4770]],\n",
      "\n",
      "         [[0.4417, 0.5844, 0.8626, 0.7979, 0.7369],\n",
      "          [0.4579, 0.5579, 0.7097, 0.7795, 0.6589],\n",
      "          [1.2255, 1.0223, 1.2951, 1.4360, 1.1740],\n",
      "          [1.0834, 0.9001, 1.2040, 1.0813, 1.0459],\n",
      "          [0.6295, 0.6248, 0.8072, 0.8975, 0.7344]],\n",
      "\n",
      "         [[0.8167, 1.4658, 1.5253, 0.8557, 1.0946],\n",
      "          [1.1151, 1.5564, 1.9902, 0.9356, 1.5391],\n",
      "          [0.6744, 1.0163, 1.3951, 0.8502, 0.9930],\n",
      "          [0.7297, 1.3246, 1.0731, 0.7470, 0.7308],\n",
      "          [0.5340, 0.6275, 0.7935, 0.3397, 0.6473]]]])\n"
     ]
    }
   ],
   "source": [
    "m1 = torch.rand(2, 3, 5, 4)\n",
    "m2 = torch.rand(2, 3, 4, 5)\n",
    "\n",
    "print(m1.matmul(m2)) "
   ]
  },
  {
   "cell_type": "code",
   "execution_count": 48,
   "id": "a7e4e727",
   "metadata": {
    "scrolled": true
   },
   "outputs": [
    {
     "name": "stdout",
     "output_type": "stream",
     "text": [
      "torch.Size([2, 3, 5, 5])\n",
      "tensor([[[[0.9116, 1.3549, 0.3635, 1.0000, 1.1498],\n",
      "          [0.2787, 0.5472, 0.5101, 1.0204, 0.9795],\n",
      "          [0.5017, 0.8932, 0.3499, 1.1158, 1.2395],\n",
      "          [0.9360, 1.3540, 0.4357, 1.0621, 1.1528],\n",
      "          [0.2652, 0.4486, 0.3784, 0.9917, 0.9302]],\n",
      "\n",
      "         [[0.8852, 0.6429, 1.2049, 0.3741, 0.6408],\n",
      "          [1.0819, 1.2580, 1.5215, 0.6240, 0.8008],\n",
      "          [0.5112, 1.2896, 0.8617, 0.2493, 0.4374],\n",
      "          [0.5548, 0.8951, 0.7782, 0.3102, 0.4469],\n",
      "          [0.8176, 1.0822, 1.1520, 0.4085, 0.6340]],\n",
      "\n",
      "         [[0.4722, 1.0482, 1.0079, 0.4657, 0.2534],\n",
      "          [1.3627, 1.3442, 1.8287, 1.0080, 0.7820],\n",
      "          [0.8136, 1.2989, 1.5308, 0.6876, 0.4602],\n",
      "          [1.4736, 1.7426, 1.8356, 1.1606, 0.8076],\n",
      "          [1.5876, 1.8117, 2.1703, 1.2103, 0.8882]]],\n",
      "\n",
      "\n",
      "        [[[0.5776, 0.8064, 0.4161, 1.1248, 0.9050],\n",
      "          [0.5326, 0.6438, 0.4744, 0.7734, 0.8072],\n",
      "          [0.8829, 1.1295, 0.5288, 1.1844, 1.1863],\n",
      "          [0.4966, 0.7186, 0.2652, 1.2818, 0.7906],\n",
      "          [0.4893, 0.5546, 0.3382, 1.0896, 0.7438]],\n",
      "\n",
      "         [[0.8201, 0.5961, 0.4280, 0.9283, 1.2640],\n",
      "          [0.6439, 0.6849, 0.3096, 0.6534, 0.9040],\n",
      "          [0.9003, 0.6825, 0.3656, 0.8795, 1.2666],\n",
      "          [0.9753, 0.9212, 0.5955, 1.1695, 1.5397],\n",
      "          [1.1407, 1.3712, 0.8195, 1.5688, 1.8339]],\n",
      "\n",
      "         [[1.3029, 0.5892, 0.4821, 0.3858, 0.5480],\n",
      "          [2.0383, 0.7762, 0.9081, 0.6883, 0.7229],\n",
      "          [2.0193, 0.7630, 0.8926, 0.5775, 0.7355],\n",
      "          [1.7785, 0.7750, 0.8806, 0.6063, 0.7222],\n",
      "          [2.2406, 0.9845, 0.9015, 0.6336, 0.9306]]]])\n"
     ]
    }
   ],
   "source": [
    "print(m1.matmul(m2).shape)\n",
    "print(m1.matmul(m2))"
   ]
  },
  {
   "cell_type": "markdown",
   "id": "7178b30b",
   "metadata": {},
   "source": [
    "Anoter option is to use the powerful `einsum` function. Let's say our input have the following representation:\n",
    "- `b` = batch size \n",
    "- `c` = channels\n",
    "- `i` = `m1` timesteps\n",
    "- `j` = `m2` timesteps\n",
    "- `d` = hidden size"
   ]
  },
  {
   "cell_type": "code",
   "execution_count": 42,
   "id": "32d89955",
   "metadata": {
    "scrolled": true
   },
   "outputs": [
    {
     "data": {
      "text/plain": [
       "tensor([[[[0.8657, 0.9738, 0.3437, 0.3736, 1.0965],\n",
       "          [0.5436, 0.9778, 0.1639, 0.1501, 0.6547],\n",
       "          [1.2755, 1.6704, 0.4559, 0.4037, 1.5694],\n",
       "          [0.9914, 0.8402, 0.3646, 0.3154, 0.6528],\n",
       "          [1.4698, 1.7488, 0.5212, 0.4465, 1.5116]],\n",
       "\n",
       "         [[1.4767, 1.4919, 1.8555, 1.1906, 2.1602],\n",
       "          [0.5548, 0.5101, 0.6609, 0.4485, 0.7687],\n",
       "          [1.1261, 1.2733, 1.1512, 0.6770, 1.5569],\n",
       "          [0.9616, 0.8399, 0.9907, 0.4858, 1.2351],\n",
       "          [1.7914, 1.2182, 1.6769, 1.2455, 2.0383]],\n",
       "\n",
       "         [[0.5411, 0.5808, 0.6317, 1.1238, 1.2219],\n",
       "          [0.5769, 0.8286, 0.8423, 1.3140, 1.5758],\n",
       "          [1.0017, 0.9447, 1.0018, 1.7097, 1.8854],\n",
       "          [0.7744, 0.4870, 0.5860, 1.2605, 1.2618],\n",
       "          [0.5380, 0.3682, 0.4476, 0.9406, 0.8900]]],\n",
       "\n",
       "\n",
       "        [[[0.2859, 0.5871, 0.5725, 0.4685, 0.6062],\n",
       "          [1.3424, 1.2191, 0.9486, 1.3449, 0.6944],\n",
       "          [0.7727, 0.7698, 0.6903, 0.8279, 0.6447],\n",
       "          [0.8547, 0.6118, 0.6877, 0.7280, 0.7612],\n",
       "          [0.4833, 0.7028, 0.5777, 0.6093, 0.4770]],\n",
       "\n",
       "         [[0.4417, 0.5844, 0.8626, 0.7979, 0.7369],\n",
       "          [0.4579, 0.5579, 0.7097, 0.7795, 0.6589],\n",
       "          [1.2255, 1.0223, 1.2951, 1.4360, 1.1740],\n",
       "          [1.0834, 0.9001, 1.2040, 1.0813, 1.0459],\n",
       "          [0.6295, 0.6248, 0.8072, 0.8975, 0.7344]],\n",
       "\n",
       "         [[0.8167, 1.4658, 1.5253, 0.8557, 1.0946],\n",
       "          [1.1151, 1.5564, 1.9902, 0.9356, 1.5391],\n",
       "          [0.6744, 1.0163, 1.3951, 0.8502, 0.9930],\n",
       "          [0.7297, 1.3246, 1.0731, 0.7470, 0.7308],\n",
       "          [0.5340, 0.6275, 0.7935, 0.3397, 0.6473]]]])"
      ]
     },
     "execution_count": 42,
     "metadata": {},
     "output_type": "execute_result"
    }
   ],
   "source": [
    "torch.einsum('bcid,bcdj->bcij', m1, m2)"
   ]
  },
  {
   "cell_type": "markdown",
   "id": "0298cab5",
   "metadata": {},
   "source": [
    "See more about `einsum` here: https://pytorch.org/docs/master/generated/torch.einsum.html#torch.einsum"
   ]
  },
  {
   "cell_type": "markdown",
   "id": "f5e8305d",
   "metadata": {},
   "source": [
    "### Broadcasting\n",
    "\n",
    "Broadcasting means doing some arithmetic operation with tensors of different ranks, as if the smaller one were expanded, or broadcast, to match the larger.\n",
    "\n",
    "Let's experiment with a matrix (rank 2 tensor) and a vector (rank 1)."
   ]
  },
  {
   "cell_type": "code",
   "execution_count": 49,
   "id": "0598a902",
   "metadata": {},
   "outputs": [
    {
     "name": "stdout",
     "output_type": "stream",
     "text": [
      "m: tensor([[0.1144, 0.9027, 0.0816, 0.8506],\n",
      "        [0.3141, 0.8211, 0.7830, 0.6086],\n",
      "        [0.4474, 0.5155, 0.5862, 0.4229],\n",
      "        [0.7382, 0.6912, 0.7181, 0.2513],\n",
      "        [0.4255, 0.0811, 0.8796, 0.4789]])\n",
      "\n",
      "v: tensor([0, 1, 2, 3])\n"
     ]
    }
   ],
   "source": [
    "m = torch.rand(5, 4)\n",
    "v = torch.arange(4)\n",
    "\n",
    "print(\"m:\", m)\n",
    "print(\"\\nv:\", v)"
   ]
  },
  {
   "cell_type": "code",
   "execution_count": 50,
   "id": "fb424d1c",
   "metadata": {},
   "outputs": [
    {
     "name": "stdout",
     "output_type": "stream",
     "text": [
      "m + v:\n",
      " tensor([[0.1144, 1.9027, 2.0816, 3.8506],\n",
      "        [0.3141, 1.8211, 2.7830, 3.6086],\n",
      "        [0.4474, 1.5155, 2.5862, 3.4229],\n",
      "        [0.7382, 1.6912, 2.7181, 3.2513],\n",
      "        [0.4255, 1.0811, 2.8796, 3.4789]])\n"
     ]
    }
   ],
   "source": [
    "m_plus_v = m + v\n",
    "print(\"m + v:\\n\", m_plus_v)"
   ]
  },
  {
   "cell_type": "markdown",
   "id": "1e6a115a",
   "metadata": {},
   "source": [
    "We can also reshape tensors"
   ]
  },
  {
   "cell_type": "code",
   "execution_count": 51,
   "id": "da70c554",
   "metadata": {},
   "outputs": [
    {
     "data": {
      "text/plain": [
       "tensor([[0, 1],\n",
       "        [2, 3]])"
      ]
     },
     "execution_count": 51,
     "metadata": {},
     "output_type": "execute_result"
    }
   ],
   "source": [
    "v = v.view(2, 2)\n",
    "v"
   ]
  },
  {
   "cell_type": "code",
   "execution_count": 52,
   "id": "4f6a4581",
   "metadata": {},
   "outputs": [
    {
     "data": {
      "text/plain": [
       "tensor([[0],\n",
       "        [1],\n",
       "        [2],\n",
       "        [3]])"
      ]
     },
     "execution_count": 52,
     "metadata": {},
     "output_type": "execute_result"
    }
   ],
   "source": [
    "v = v.view(4, 1)\n",
    "v"
   ]
  },
  {
   "cell_type": "markdown",
   "id": "059b3b76",
   "metadata": {},
   "source": [
    "Note that shape `[4, 1]` is not broadcastable to match `[5, 4]`!"
   ]
  },
  {
   "cell_type": "code",
   "execution_count": 53,
   "id": "0f6e30e8",
   "metadata": {},
   "outputs": [
    {
     "ename": "RuntimeError",
     "evalue": "The size of tensor a (5) must match the size of tensor b (4) at non-singleton dimension 0",
     "output_type": "error",
     "traceback": [
      "\u001b[0;31m---------------------------------------------------------------------------\u001b[0m",
      "\u001b[0;31mRuntimeError\u001b[0m                              Traceback (most recent call last)",
      "\u001b[0;32m/var/folders/8b/9lvvppx52qsb_6t495m00vfm0000gn/T/ipykernel_19068/3013628545.py\u001b[0m in \u001b[0;36m<module>\u001b[0;34m\u001b[0m\n\u001b[0;32m----> 1\u001b[0;31m \u001b[0mm\u001b[0m \u001b[0;34m+\u001b[0m \u001b[0mv\u001b[0m\u001b[0;34m\u001b[0m\u001b[0;34m\u001b[0m\u001b[0m\n\u001b[0m",
      "\u001b[0;31mRuntimeError\u001b[0m: The size of tensor a (5) must match the size of tensor b (4) at non-singleton dimension 0"
     ]
    }
   ],
   "source": [
    "m + v"
   ]
  },
  {
   "cell_type": "markdown",
   "id": "e2fdbbbb",
   "metadata": {},
   "source": [
    "... but `[1, 4]` is!"
   ]
  },
  {
   "cell_type": "code",
   "execution_count": 54,
   "id": "69da3879",
   "metadata": {},
   "outputs": [
    {
     "data": {
      "text/plain": [
       "tensor([[0.1144, 1.9027, 2.0816, 3.8506],\n",
       "        [0.3141, 1.8211, 2.7830, 3.6086],\n",
       "        [0.4474, 1.5155, 2.5862, 3.4229],\n",
       "        [0.7382, 1.6912, 2.7181, 3.2513],\n",
       "        [0.4255, 1.0811, 2.8796, 3.4789]])"
      ]
     },
     "execution_count": 54,
     "metadata": {},
     "output_type": "execute_result"
    }
   ],
   "source": [
    "v = v.view(1, 4)\n",
    "m + v"
   ]
  },
  {
   "cell_type": "markdown",
   "id": "16130d2b",
   "metadata": {},
   "source": [
    "Two tensors are “broadcastable” if the following rules hold:\n",
    "\n",
    "- Each tensor has at least one dimension.\n",
    "\n",
    "- When iterating over the dimension sizes, starting at the trailing dimension, the dimension sizes must either be equal, one of them is 1, or one of them does not exist."
   ]
  },
  {
   "cell_type": "code",
   "execution_count": 55,
   "id": "374ac4e2",
   "metadata": {},
   "outputs": [],
   "source": [
    "x = torch.rand(5,7,3)\n",
    "y = torch.rand(5,7,3)\n",
    "z = x + y\n",
    "# same shapes are always broadcastable (i.e. the above rules always hold)"
   ]
  },
  {
   "cell_type": "code",
   "execution_count": 56,
   "id": "f473cfeb",
   "metadata": {},
   "outputs": [
    {
     "ename": "RuntimeError",
     "evalue": "The size of tensor a (0) must match the size of tensor b (2) at non-singleton dimension 1",
     "output_type": "error",
     "traceback": [
      "\u001b[0;31m---------------------------------------------------------------------------\u001b[0m",
      "\u001b[0;31mRuntimeError\u001b[0m                              Traceback (most recent call last)",
      "\u001b[0;32m/var/folders/8b/9lvvppx52qsb_6t495m00vfm0000gn/T/ipykernel_19068/3995955963.py\u001b[0m in \u001b[0;36m<module>\u001b[0;34m\u001b[0m\n\u001b[1;32m      1\u001b[0m \u001b[0mx\u001b[0m \u001b[0;34m=\u001b[0m \u001b[0mtorch\u001b[0m\u001b[0;34m.\u001b[0m\u001b[0mrand\u001b[0m\u001b[0;34m(\u001b[0m\u001b[0;34m(\u001b[0m\u001b[0;36m0\u001b[0m\u001b[0;34m,\u001b[0m\u001b[0;34m)\u001b[0m\u001b[0;34m)\u001b[0m\u001b[0;34m\u001b[0m\u001b[0;34m\u001b[0m\u001b[0m\n\u001b[1;32m      2\u001b[0m \u001b[0my\u001b[0m \u001b[0;34m=\u001b[0m \u001b[0mtorch\u001b[0m\u001b[0;34m.\u001b[0m\u001b[0mrand\u001b[0m\u001b[0;34m(\u001b[0m\u001b[0;36m2\u001b[0m\u001b[0;34m,\u001b[0m\u001b[0;36m2\u001b[0m\u001b[0;34m)\u001b[0m\u001b[0;34m\u001b[0m\u001b[0;34m\u001b[0m\u001b[0m\n\u001b[0;32m----> 3\u001b[0;31m \u001b[0mz\u001b[0m \u001b[0;34m=\u001b[0m \u001b[0mx\u001b[0m \u001b[0;34m+\u001b[0m \u001b[0my\u001b[0m\u001b[0;34m\u001b[0m\u001b[0;34m\u001b[0m\u001b[0m\n\u001b[0m\u001b[1;32m      4\u001b[0m \u001b[0;31m# x and y are not broadcastable, because x does not have at least 1 dimension\u001b[0m\u001b[0;34m\u001b[0m\u001b[0;34m\u001b[0m\u001b[0;34m\u001b[0m\u001b[0m\n",
      "\u001b[0;31mRuntimeError\u001b[0m: The size of tensor a (0) must match the size of tensor b (2) at non-singleton dimension 1"
     ]
    }
   ],
   "source": [
    "x = torch.rand((0,))\n",
    "y = torch.rand(2,2)\n",
    "z = x + y\n",
    "# x and y are not broadcastable, because x does not have at least 1 dimension"
   ]
  },
  {
   "cell_type": "code",
   "execution_count": 57,
   "id": "dfae4916",
   "metadata": {},
   "outputs": [],
   "source": [
    "# can line up trailing dimensions\n",
    "x = torch.empty(5,3,4,1)\n",
    "y = torch.empty(  3,1,1)\n",
    "z = x + y\n",
    "# x and y are broadcastable.\n",
    "# 1st trailing dimension: both have size 1\n",
    "# 2nd trailing dimension: y has size 1\n",
    "# 3rd trailing dimension: x size == y size\n",
    "# 4th trailing dimension: y dimension doesn't exist"
   ]
  },
  {
   "cell_type": "code",
   "execution_count": 63,
   "id": "d97a3a7a",
   "metadata": {},
   "outputs": [
    {
     "ename": "RuntimeError",
     "evalue": "The size of tensor a (2) must match the size of tensor b (3) at non-singleton dimension 1",
     "output_type": "error",
     "traceback": [
      "\u001b[0;31m---------------------------------------------------------------------------\u001b[0m",
      "\u001b[0;31mRuntimeError\u001b[0m                              Traceback (most recent call last)",
      "\u001b[0;32m/var/folders/8b/9lvvppx52qsb_6t495m00vfm0000gn/T/ipykernel_19068/2467798742.py\u001b[0m in \u001b[0;36m<module>\u001b[0;34m\u001b[0m\n\u001b[1;32m      2\u001b[0m \u001b[0mx\u001b[0m \u001b[0;34m=\u001b[0m \u001b[0mtorch\u001b[0m\u001b[0;34m.\u001b[0m\u001b[0mempty\u001b[0m\u001b[0;34m(\u001b[0m\u001b[0;36m5\u001b[0m\u001b[0;34m,\u001b[0m\u001b[0;36m2\u001b[0m\u001b[0;34m,\u001b[0m\u001b[0;36m4\u001b[0m\u001b[0;34m,\u001b[0m\u001b[0;36m1\u001b[0m\u001b[0;34m)\u001b[0m\u001b[0;34m\u001b[0m\u001b[0;34m\u001b[0m\u001b[0m\n\u001b[1;32m      3\u001b[0m \u001b[0my\u001b[0m \u001b[0;34m=\u001b[0m \u001b[0mtorch\u001b[0m\u001b[0;34m.\u001b[0m\u001b[0mempty\u001b[0m\u001b[0;34m(\u001b[0m  \u001b[0;36m3\u001b[0m\u001b[0;34m,\u001b[0m\u001b[0;36m1\u001b[0m\u001b[0;34m,\u001b[0m\u001b[0;36m1\u001b[0m\u001b[0;34m)\u001b[0m\u001b[0;34m\u001b[0m\u001b[0;34m\u001b[0m\u001b[0m\n\u001b[0;32m----> 4\u001b[0;31m \u001b[0mz\u001b[0m \u001b[0;34m=\u001b[0m \u001b[0mx\u001b[0m \u001b[0;34m+\u001b[0m \u001b[0my\u001b[0m\u001b[0;34m\u001b[0m\u001b[0;34m\u001b[0m\u001b[0m\n\u001b[0m\u001b[1;32m      5\u001b[0m \u001b[0;31m# x and y are not broadcastable, because in the 3rd trailing dimension 2 != 3\u001b[0m\u001b[0;34m\u001b[0m\u001b[0;34m\u001b[0m\u001b[0;34m\u001b[0m\u001b[0m\n",
      "\u001b[0;31mRuntimeError\u001b[0m: The size of tensor a (2) must match the size of tensor b (3) at non-singleton dimension 1"
     ]
    }
   ],
   "source": [
    "# but:\n",
    "x = torch.empty(5,2,4,1)\n",
    "y = torch.empty(  3,1,1)\n",
    "z = x + y\n",
    "# x and y are not broadcastable, because in the 3rd trailing dimension 2 != 3"
   ]
  },
  {
   "cell_type": "markdown",
   "id": "877b7b05",
   "metadata": {},
   "source": [
    "Always take care with tensor shapes! It is a good practice to verify in the interpreter how some expression is evaluated before inserting into your model code. \n",
    "\n",
    "In other words, **you can use pytorch's dynamic graph creation ability to debug your model by printing tensor shapes!**\n",
    "\n",
    "And see more about broadcasting here: https://pytorch.org/docs/master/notes/broadcasting.html"
   ]
  },
  {
   "cell_type": "markdown",
   "id": "ecabe4a5",
   "metadata": {},
   "source": [
    "# But what about GPUs?\n",
    "\n",
    "You can change default device of cpu to GPU, if you have one. "
   ]
  },
  {
   "cell_type": "code",
   "execution_count": 65,
   "id": "ec0734ba",
   "metadata": {},
   "outputs": [
    {
     "name": "stdout",
     "output_type": "stream",
     "text": [
      "my_device: cpu\n",
      "By default device tensor is stored on: cpu\n",
      "\n",
      "Device tensor is now stored on: cpu\n"
     ]
    }
   ],
   "source": [
    "my_device = torch.device(\"cuda:0\" if torch.cuda.is_available() else \"cpu\")\n",
    "print(\"my_device:\", my_device)\n",
    "\n",
    "x = torch.eye(3)  # data is on the cpu \n",
    "print(\"By default device tensor is stored on:\", x.device)\n",
    "\n",
    "# you can move data to the GPU by doing .to(device)\n",
    "x.to(my_device)  # data is moved to my_device\n",
    "print(\"\\nDevice tensor is now stored on:\", x.device) #it will still be cpu if you don't have gpu"
   ]
  },
  {
   "cell_type": "markdown",
   "id": "091bc351",
   "metadata": {},
   "source": [
    "If you have a GPU you should get something like: \n",
    "`device(type='cuda', index=0)` -> now the computation happens on the GPU."
   ]
  },
  {
   "cell_type": "markdown",
   "id": "a5654e74",
   "metadata": {},
   "source": [
    "# Tutorials: \n",
    "\n",
    "Get familiar with pytorch with more tutorials: \n",
    "- https://pytorch.org/tutorials/beginner/deep_learning_60min_blitz.html\n",
    "- https://machinelearningmastery.com/pytorch-tutorial-develop-deep-learning-models/"
   ]
  }
 ],
 "metadata": {
  "kernelspec": {
   "display_name": "Python [conda env:IST_DL21_Env]",
   "language": "python",
   "name": "conda-env-IST_DL21_Env-py"
  },
  "language_info": {
   "codemirror_mode": {
    "name": "ipython",
    "version": 3
   },
   "file_extension": ".py",
   "mimetype": "text/x-python",
   "name": "python",
   "nbconvert_exporter": "python",
   "pygments_lexer": "ipython3",
   "version": "3.8.12"
  }
 },
 "nbformat": 4,
 "nbformat_minor": 5
}

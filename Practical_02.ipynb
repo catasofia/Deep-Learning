{
 "cells": [
  {
   "cell_type": "markdown",
   "id": "5cf80760",
   "metadata": {},
   "source": [
    "# Question 2\n",
    "### Data generation:"
   ]
  },
  {
   "cell_type": "code",
   "execution_count": 9,
   "id": "064c2209",
   "metadata": {},
   "outputs": [
    {
     "data": {
      "text/plain": [
       "<matplotlib.collections.PathCollection at 0x7fe52485f550>"
      ]
     },
     "execution_count": 9,
     "metadata": {},
     "output_type": "execute_result"
    },
    {
     "data": {
      "image/png": "[encoded data removed]",
      "text/plain": [
       "<Figure size 600x600 with 1 Axes>"
      ]
     },
     "metadata": {
      "needs_background": "light"
     },
     "output_type": "display_data"
    }
   ],
   "source": [
    "import numpy as np\n",
    "import matplotlib.pyplot as pyplot\n",
    "from matplotlib.pyplot import figure\n",
    "\n",
    "class_means = [np.array([0,0]), np.array([0, 3]), np.array([2,2])]\n",
    "examples_per_class = 10\n",
    "\n",
    "inputs = []\n",
    "for class_mean in class_means:\n",
    "    class_examples = class_mean + np.random.randn(examples_per_class, 2)\n",
    "    inputs.append(class_examples)\n",
    "    \n",
    "inputs = np.concatenate(inputs, axis=0)\n",
    "\n",
    "labels = np.array([0]*examples_per_class + [1]*examples_per_class + [2]*examples_per_class)\n",
    "ind = np.random.permutation(labels.size)\n",
    "inputs = inputs[ind]\n",
    "labels = labels[ind]\n",
    "\n",
    "x_values = []\n",
    "y_values = []\n",
    "for input_value in inputs:\n",
    "    x_values.append(input_value[0])\n",
    "    y_values.append(input_value[1])\n",
    "    \n",
    "X = inputs\n",
    "Y = labels\n",
    "    \n",
    "figure(figsize=(4, 4), dpi=150)\n",
    "pyplot.scatter(x_values,y_values, c=labels)"
   ]
  },
  {
   "cell_type": "code",
   "execution_count": 10,
   "id": "bc4d0af5",
   "metadata": {},
   "outputs": [],
   "source": [
    "new_inputs = []\n",
    "for input_value in inputs:\n",
    "    new_inputs.append(np.array([1, input_value[0], input_value[1]]))\n",
    "\n",
    "inputs = np.asarray(new_inputs)\n",
    "#print(inputs)"
   ]
  },
  {
   "cell_type": "markdown",
   "id": "eb03fd88",
   "metadata": {},
   "source": [
    "### Multi-class perceptron algorithm:"
   ]
  },
  {
   "cell_type": "code",
   "execution_count": 13,
   "id": "a5b52224",
   "metadata": {},
   "outputs": [
    {
     "name": "stdout",
     "output_type": "stream",
     "text": [
      "result matrix:  [[ -3.          -6.88863309 -18.26585895]\n",
      " [ -3.          -7.39132074  -2.30520232]\n",
      " [ -3.           3.23263361  -0.97004862]]\n",
      "0.6333333333333333\n"
     ]
    }
   ],
   "source": [
    "num_labels =  3\n",
    "num_features = 2\n",
    "\n",
    "W = np.zeros([num_labels, num_features + 1])\n",
    "\n",
    "\n",
    "learning_rate = 1\n",
    "def multi_class_perceptron_epoch(inputs, labels, W, learning_rate):\n",
    "    for i in range(len(inputs)):\n",
    "        #W_yi = W_yi + o(x_i), to the correct class\n",
    "        #W_truey_i = W_true_i - o(x_i) from predicted (incorrect)\n",
    "        \n",
    "        temp_result = np.dot(W, inputs[i])\n",
    " \n",
    "        result_class = 0\n",
    "        \n",
    "        for j in range(len(temp_result)):\n",
    "            if temp_result[j] == max(temp_result):\n",
    "                result_class = j\n",
    "                \n",
    "        if(labels[i] != result_class):\n",
    "            \n",
    "            for j in range(len(temp_result)):\n",
    "                if j == labels[i]:\n",
    "                    W[j] = W[j] + inputs[i]\n",
    "                    #W[j] = W[j] + labels[j] * inputs[i]\n",
    "                else:\n",
    "                    W[j] = W[j] -  inputs[i]\n",
    "                    #W[j] = W[j] - labels[j] * inputs[i]\n",
    "        \n",
    "\n",
    "for j in range(1):\n",
    "    multi_class_perceptron_epoch(inputs, labels, W, learning_rate)\n",
    "print(\"result matrix: \", W)\n",
    "\n",
    "\n",
    "predicted_correct = 0\n",
    "\n",
    "for i in range(len(inputs)):\n",
    "    temp_result = np.dot(W, inputs[i])\n",
    "\n",
    "    result_class = 0\n",
    "        \n",
    "    for j in range(len(temp_result)):\n",
    "        if temp_result[j] == max(temp_result):\n",
    "            result_class = j\n",
    "        \n",
    "    if(labels[i] == result_class):\n",
    "        predicted_correct = predicted_correct + 1\n",
    "            \n",
    "print(predicted_correct / len(inputs))\n"
   ]
  },
  {
   "cell_type": "markdown",
   "id": "75608d34",
   "metadata": {},
   "source": [
    "# Question 3:\n",
    "### AND Function:"
   ]
  },
  {
   "cell_type": "code",
   "execution_count": 68,
   "id": "dc6a0ef0",
   "metadata": {},
   "outputs": [
    {
     "data": {
      "text/plain": [
       "<matplotlib.collections.PathCollection at 0x7fe5253937f0>"
      ]
     },
     "execution_count": 68,
     "metadata": {},
     "output_type": "execute_result"
    },
    {
     "data": {
      "image/png": "[encoded data removed]",
      "text/plain": [
       "<Figure size 200x200 with 1 Axes>"
      ]
     },
     "metadata": {
      "needs_background": "light"
     },
     "output_type": "display_data"
    }
   ],
   "source": [
    "x_data = [0, 0, 1, 1]\n",
    "y_data = [0, 1, 0, 1]\n",
    "c_labels = [0,0,0,1] # The result of (x_data AND y_data)\n",
    "\n",
    "figure(figsize=(2, 2), dpi=100)\n",
    "pyplot.scatter(x_data,y_data, c=c_labels)"
   ]
  },
  {
   "cell_type": "code",
   "execution_count": 70,
   "id": "3dd76e41",
   "metadata": {},
   "outputs": [
    {
     "data": {
      "image/png": "[encoded data removed]",
      "text/plain": [
       "<Figure size 432x288 with 1 Axes>"
      ]
     },
     "metadata": {
      "needs_background": "light"
     },
     "output_type": "display_data"
    }
   ],
   "source": [
    "# We can see that we can get a line that divides the bold blue dots from the yellow ones.\n",
    "W = [1.3, -1, 1]\n",
    "\n",
    "x = np.linspace(-1.5,1.5,100)\n",
    "y = (W[1]*x+W[0])/(W[2])\n",
    "pyplot.scatter(x_data,y_data, c=c_labels)\n",
    "label = \"y= ( -\" + str(W[1]) + 'x -' + str(W[0]) + \" ) / (\" + str(W[2]) +\")\"\n",
    "pyplot.plot(x, y, '-o', label=label)\n",
    "pyplot.xlabel('x', color='#1C2833')\n",
    "pyplot.ylabel('y', color='#1C2833')\n",
    "pyplot.legend(loc='upper left')\n",
    "pyplot.grid()\n",
    "pyplot.xlim([-0.1,1.1])\n",
    "pyplot.ylim([-0.1,1.5])\n",
    "pyplot.show()\n"
   ]
  },
  {
   "cell_type": "markdown",
   "id": "84616fd9",
   "metadata": {},
   "source": [
    "### NOT Function:"
   ]
  },
  {
   "cell_type": "code",
   "execution_count": 71,
   "id": "d56496d4",
   "metadata": {},
   "outputs": [
    {
     "data": {
      "text/plain": [
       "<matplotlib.collections.PathCollection at 0x7fe5255b6340>"
      ]
     },
     "execution_count": 71,
     "metadata": {},
     "output_type": "execute_result"
    },
    {
     "data": {
      "image/png": "[encoded data removed]",
      "text/plain": [
       "<Figure size 200x200 with 1 Axes>"
      ]
     },
     "metadata": {
      "needs_background": "light"
     },
     "output_type": "display_data"
    }
   ],
   "source": [
    "x_data = [0, 0]\n",
    "y_data = [0, 1]\n",
    "c_labels = [1,0] # The result of (x_data AND y_data)\n",
    "\n",
    "figure(figsize=(2, 2), dpi=100)\n",
    "pyplot.grid()\n",
    "pyplot.scatter(x_data,y_data, c=c_labels)"
   ]
  },
  {
   "cell_type": "code",
   "execution_count": 72,
   "id": "8c1b3dee",
   "metadata": {},
   "outputs": [
    {
     "data": {
      "image/png": "[encoded data removed]",
      "text/plain": [
       "<Figure size 432x288 with 1 Axes>"
      ]
     },
     "metadata": {
      "needs_background": "light"
     },
     "output_type": "display_data"
    }
   ],
   "source": [
    "# We can see that we can get a line that divides the bold blue dots from the yellow ones.\n",
    "W = [0.5, -4, 1]\n",
    "\n",
    "x = np.linspace(-1.5,1.5,100)\n",
    "y = (W[1]*x+W[0])/(W[2])\n",
    "pyplot.scatter(x_data,y_data, c=c_labels)\n",
    "label = \"y= ( -\" + str(W[1]) + 'x -' + str(W[0]) + \" ) / (\" + str(W[2]) +\")\"\n",
    "pyplot.plot(x, y, '-o', label=label)\n",
    "pyplot.xlabel('x', color='#1C2833')\n",
    "pyplot.ylabel('y', color='#1C2833')\n",
    "pyplot.legend(loc='upper left')\n",
    "pyplot.grid()\n",
    "pyplot.xlim([-0.1,0.1])\n",
    "pyplot.ylim([-0.1, 1.1])\n",
    "pyplot.show()"
   ]
  },
  {
   "cell_type": "markdown",
   "id": "e5e8ebdd",
   "metadata": {},
   "source": [
    "### OR Function:"
   ]
  },
  {
   "cell_type": "code",
   "execution_count": 73,
   "id": "b2597aff",
   "metadata": {},
   "outputs": [
    {
     "data": {
      "text/plain": [
       "<matplotlib.collections.PathCollection at 0x7fe52523f820>"
      ]
     },
     "execution_count": 73,
     "metadata": {},
     "output_type": "execute_result"
    },
    {
     "data": {
      "image/png": "[encoded data removed]",
      "text/plain": [
       "<Figure size 200x200 with 1 Axes>"
      ]
     },
     "metadata": {
      "needs_background": "light"
     },
     "output_type": "display_data"
    }
   ],
   "source": [
    "x_data = [0, 0, 1, 1]\n",
    "y_data = [0, 1, 0, 1]\n",
    "c_labels = [0,1,1,1] # The result of (x_data AND y_data)\n",
    "\n",
    "figure(figsize=(2, 2), dpi=100)\n",
    "pyplot.scatter(x_data,y_data, c=c_labels)"
   ]
  },
  {
   "cell_type": "code",
   "execution_count": 67,
   "id": "01635f33",
   "metadata": {},
   "outputs": [
    {
     "data": {
      "image/png": "[encoded data removed]",
      "text/plain": [
       "<Figure size 432x288 with 1 Axes>"
      ]
     },
     "metadata": {
      "needs_background": "light"
     },
     "output_type": "display_data"
    }
   ],
   "source": [
    "# We can see that we can get a line that divides the bold blue dots from the yellow ones.\n",
    "W = [0.4, -1, 1]\n",
    "\n",
    "x = np.linspace(-1.5,1.5,100)\n",
    "y = (W[1]*x+W[0])/(W[2])\n",
    "pyplot.scatter(x_data,y_data, c=c_labels)\n",
    "label = \"y= ( -\" + str(W[1]) + 'x -' + str(W[0]) + \" ) / (\" + str(W[2]) +\")\"\n",
    "pyplot.plot(x, y, '-o', label=label)\n",
    "pyplot.xlabel('x', color='#1C2833')\n",
    "pyplot.ylabel('y', color='#1C2833')\n",
    "pyplot.legend(loc='upper left')\n",
    "pyplot.grid()\n",
    "pyplot.xlim([-0.1,1.1])\n",
    "pyplot.ylim([-0.1,1.5])\n",
    "pyplot.show()\n"
   ]
  },
  {
   "cell_type": "markdown",
   "id": "d51f453e",
   "metadata": {},
   "source": [
    "### XOR Function:"
   ]
  },
  {
   "cell_type": "code",
   "execution_count": 75,
   "id": "5f4ba9b8",
   "metadata": {},
   "outputs": [
    {
     "data": {
      "text/plain": [
       "<matplotlib.collections.PathCollection at 0x7fe52507edc0>"
      ]
     },
     "execution_count": 75,
     "metadata": {},
     "output_type": "execute_result"
    },
    {
     "data": {
      "image/png": "[encoded data removed]",
      "text/plain": [
       "<Figure size 200x200 with 1 Axes>"
      ]
     },
     "metadata": {
      "needs_background": "light"
     },
     "output_type": "display_data"
    }
   ],
   "source": [
    "x_data = [0, 0, 1, 1]\n",
    "y_data = [0, 1, 0, 1]\n",
    "c_labels = [0,1,1,0] # The result of (x_data AND y_data)\n",
    "\n",
    "figure(figsize=(2, 2), dpi=100)\n",
    "pyplot.scatter(x_data,y_data, c=c_labels)"
   ]
  },
  {
   "cell_type": "code",
   "execution_count": 79,
   "id": "a4fb9531",
   "metadata": {},
   "outputs": [
    {
     "data": {
      "image/png": "[encoded data removed]",
      "text/plain": [
       "<Figure size 432x288 with 1 Axes>"
      ]
     },
     "metadata": {
      "needs_background": "light"
     },
     "output_type": "display_data"
    }
   ],
   "source": [
    "# We can see that we can get a line that divides the bold blue dots from the yellow ones.\n",
    "W = [0.4, -1, 1]\n",
    "\n",
    "x = np.linspace(-1.5,1.5,100)\n",
    "y = (W[1]*x+W[0])/(W[2])\n",
    "pyplot.scatter(x_data,y_data, c=c_labels)\n",
    "label = \"y= ( -\" + str(W[1]) + 'x -' + str(W[0]) + \" ) / (\" + str(W[2]) +\")\"\n",
    "pyplot.plot(x, y, '-r', label=label)\n",
    "pyplot.xlabel('x', color='#1C2833')\n",
    "pyplot.ylabel('y', color='#1C2833')\n",
    "pyplot.legend(loc='upper left')\n",
    "pyplot.grid()\n",
    "pyplot.xlim([-0.1,1.1])\n",
    "pyplot.ylim([-0.1,1.5])\n",
    "pyplot.show()"
   ]
  },
  {
   "cell_type": "markdown",
   "id": "67b06497",
   "metadata": {},
   "source": [
    "### The XOR function is not linearly separable! Let's try to solve this!"
   ]
  },
  {
   "cell_type": "code",
   "execution_count": 85,
   "id": "fe24aacb",
   "metadata": {},
   "outputs": [
    {
     "data": {
      "image/png": "[encoded data removed]",
      "text/plain": [
       "<Figure size 432x288 with 1 Axes>"
      ]
     },
     "metadata": {
      "needs_background": "light"
     },
     "output_type": "display_data"
    }
   ],
   "source": [
    "# We can see that we can get a line that divides the bold blue dots from the yellow ones.\n",
    "W = [1.3, -4.3, 1,3.9,  0.8, -1.1]\n",
    "\n",
    "x = np.linspace(-1.5,1.5,100)\n",
    "y = (W[0] + x*W[1] + x*x*W[3] + x*x*x*W[4] + x*x*x*x*W[5])/(W[2])\n",
    "pyplot.scatter(x_data,y_data, c=c_labels)\n",
    "label = \"y= ( -\" + str(W[1]) + 'x -' + str(W[0]) + \" ) / (\" + str(W[2]) +\")\"\n",
    "pyplot.plot(x, y, '-r', label=label)\n",
    "pyplot.xlabel('x', color='#1C2833')\n",
    "pyplot.ylabel('y', color='#1C2833')\n",
    "pyplot.legend(loc='upper left')\n",
    "pyplot.grid()\n",
    "pyplot.show()"
   ]
  },
  {
   "cell_type": "markdown",
   "id": "a62985c7",
   "metadata": {},
   "source": [
    "# Question 4:"
   ]
  },
  {
   "cell_type": "code",
   "execution_count": 136,
   "id": "2ee359a6",
   "metadata": {},
   "outputs": [
    {
     "data": {
      "image/png": "[encoded data removed]",
      "text/plain": [
       "<Figure size 864x288 with 10 Axes>"
      ]
     },
     "metadata": {
      "needs_background": "light"
     },
     "output_type": "display_data"
    }
   ],
   "source": [
    "import matplotlib.pyplot as plt\n",
    "from sklearn.datasets import load_digits\n",
    "from sklearn.model_selection import train_test_split\n",
    "digits = load_digits()\n",
    "\n",
    "_, axes = plt.subplots(nrows=1, ncols=10, figsize=(12, 4))\n",
    "for ax, image, label in zip(axes, digits.images, digits.target):\n",
    "    ax.set_axis_off()\n",
    "    ax.imshow(image, cmap=plt.cm.gray_r, interpolation=\"nearest\")\n",
    "    ax.set_title(\"Training: %i\" % label)"
   ]
  },
  {
   "cell_type": "code",
   "execution_count": 175,
   "id": "fdd2cc7e",
   "metadata": {},
   "outputs": [
    {
     "name": "stdout",
     "output_type": "stream",
     "text": [
      "[ 0.  0.  3. 14.  1.  0.  0.  0.  0.  0. 12. 12.  0.  0.  0.  0.  0.  3.\n",
      " 16.  6.  0.  0.  0.  0.  0.  5. 16.  2.  0.  0.  0.  0.  0.  6. 16.  2.\n",
      "  5.  2.  0.  0.  0.  4. 16.  2. 12. 15.  2.  0.  0.  1. 14. 13.  2. 13.\n",
      " 11.  0.  0.  0.  3. 11. 16. 13.  4.  0.]\n"
     ]
    }
   ],
   "source": [
    "n_samples = len(digits.images)\n",
    "data = digits.images.reshape((n_samples, -1))\n",
    "X_train, X_test, y_train, y_test = train_test_split(data, digits.target, test_size=0.2,random_state= 42)\n",
    "# X_train = np.c_[X_train, np.ones(1)]\n",
    "print(X_train[0])\n",
    "new_elements = []\n",
    "for element in X_train:\n",
    "    #element = np.insert(element,0, 1, axis=0)\n",
    "    new_elements.append(element)\n",
    "    \n",
    "X_train = new_elements"
   ]
  },
  {
   "cell_type": "code",
   "execution_count": 179,
   "id": "768ab4be",
   "metadata": {},
   "outputs": [
    {
     "name": "stdout",
     "output_type": "stream",
     "text": [
      "(10, 64)\n",
      "0.9164926931106472\n"
     ]
    }
   ],
   "source": [
    "num_labels =  10\n",
    "num_features = 8*8\n",
    "\n",
    "W = np.zeros([num_labels, num_features])\n",
    "print(W.shape)\n",
    "\n",
    "learning_rate = 1\n",
    "def multi_class_perceptron_epoch(inputs, labels, W, learning_rate):\n",
    "    for i in range(len(inputs)):\n",
    "        temp_result = np.dot(W, inputs[i])\n",
    "        result_class = 0\n",
    "        \n",
    "        for j in range(len(temp_result)):\n",
    "            if temp_result[j] == max(temp_result):\n",
    "                result_class = j\n",
    "                \n",
    "        if(labels[i] != result_class):\n",
    "            \n",
    "            for j in range(len(temp_result)):\n",
    "                if j == labels[i]:\n",
    "                    W[j] = W[j] + inputs[i]\n",
    "                    #W[j] = W[j] + labels[j] * inputs[i]\n",
    "                else:\n",
    "                    W[j] = W[j] -  inputs[i]\n",
    "                    #W[j] = W[j] - labels[j] * inputs[i]\n",
    "        \n",
    "\n",
    "for j in range(10):\n",
    "    multi_class_perceptron_epoch(X_train, y_train, W, learning_rate)\n",
    "# print(\"result matrix: \", W)\n",
    "\n",
    "\n",
    "predicted_correct = 0\n",
    "\n",
    "for i in range(len(X_train)):\n",
    "    temp_result = np.dot(W, X_train[i])\n",
    "\n",
    "    result_class = 0\n",
    "        \n",
    "    for j in range(len(temp_result)):\n",
    "        if temp_result[j] == max(temp_result):\n",
    "            result_class = j\n",
    "        \n",
    "    if(y_train[i] == result_class):\n",
    "        predicted_correct = predicted_correct + 1\n",
    "            \n",
    "print(predicted_correct / len(X_train))"
   ]
  },
  {
   "cell_type": "code",
   "execution_count": 180,
   "id": "0bc920a2",
   "metadata": {},
   "outputs": [
    {
     "name": "stdout",
     "output_type": "stream",
     "text": [
      "0.9638135003479471\n",
      "0.9472222222222222\n"
     ]
    }
   ],
   "source": [
    "from sklearn.linear_model import Perceptron\n",
    "clf = Perceptron(fit_intercept=False, shuffle=False)\n",
    "clf.fit(X_train, y_train)\n",
    "print(clf.score(X_train, y_train))\n",
    "print(clf.score(X_test, y_test))"
   ]
  }
 ],
 "metadata": {
  "kernelspec": {
   "display_name": "firstEnv",
   "language": "python",
   "name": "firstenv"
  },
  "language_info": {
   "codemirror_mode": {
    "name": "ipython",
    "version": 3
   },
   "file_extension": ".py",
   "mimetype": "text/x-python",
   "name": "python",
   "nbconvert_exporter": "python",
   "pygments_lexer": "ipython3",
   "version": "3.8.12"
  }
 },
 "nbformat": 4,
 "nbformat_minor": 5
}
